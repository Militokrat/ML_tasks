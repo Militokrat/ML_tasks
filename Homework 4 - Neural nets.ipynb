{
 "cells": [
  {
   "cell_type": "markdown",
   "metadata": {
    "id": "uhK8t5S34-tC"
   },
   "source": [
    "## Backpropagation"
   ]
  },
  {
   "cell_type": "markdown",
   "metadata": {},
   "source": [
    "### Part I. Classic"
   ]
  },
  {
   "cell_type": "markdown",
   "metadata": {},
   "source": [
    "Do a forward pass (calculate green values), and a backward pass (calculate gradients, red\n",
    "values)."
   ]
  },
  {
   "cell_type": "markdown",
   "metadata": {},
   "source": [
    "![title](HA4_backprop.png)"
   ]
  },
  {
   "cell_type": "markdown",
   "metadata": {},
   "source": [
    "### Part II. Some coding bits"
   ]
  },
  {
   "cell_type": "code",
   "execution_count": 290,
   "metadata": {
    "id": "t4X6fnzc4-tE"
   },
   "outputs": [],
   "source": [
    "def affine(x, w, b):\n",
    "    return w * x + b\n",
    "def sigmoid(z):\n",
    "    return 1.0 / (1.0 + np.exp(-z))\n",
    "def gaussian(x):\n",
    "    return np.exp(-x*x)\n",
    "def sigmoid_derivative(z):\n",
    "    return sigmoid(z) * (1 - sigmoid(z))\n",
    "def mse(y,yout):\n",
    "    return np.mean((y-yout)*(y-yout))"
   ]
  },
  {
   "cell_type": "code",
   "execution_count": 291,
   "metadata": {
    "id": "ZagPtUUC4-tE"
   },
   "outputs": [],
   "source": [
    "x = 1.\n",
    "\n",
    "##### initialization\n",
    "\n",
    "w_1 = np.array([1., -1.])\n",
    "b_1 = np.array([1., 1.])\n",
    "\n",
    "w_2 = np.array([1., -1.])\n",
    "b_2 = np.array([1.])"
   ]
  },
  {
   "cell_type": "code",
   "execution_count": 292,
   "metadata": {
    "id": "tVHW57-s4-tF"
   },
   "outputs": [],
   "source": [
    "### do the forward pass of the network\n",
    "z_2, z_3 = 0, 0\n",
    "def forward():\n",
    "    global z_2, z_3\n",
    "    z_2 = ...\n",
    "    h_1_2 = ...\n",
    "\n",
    "    z_3 =  ..."
   ]
  },
  {
   "cell_type": "code",
   "execution_count": 293,
   "metadata": {
    "id": "xEg7k4_U4-tF"
   },
   "outputs": [],
   "source": [
    "z_3;"
   ]
  },
  {
   "cell_type": "markdown",
   "metadata": {
    "id": "sgbOPUKi4-tG"
   },
   "source": [
    "Is the output of the network close to the actual value?"
   ]
  },
  {
   "cell_type": "code",
   "execution_count": 295,
   "metadata": {
    "id": "ffImwKmA4-tG"
   },
   "outputs": [],
   "source": [
    "#### DERIVATIVES CALCULATION\n",
    "### enter your code here\n",
    "dw_2 = ...\n",
    "db_2 = ...\n",
    "\n",
    "dw_1 = ...\n",
    "db_1 = ...\n",
    "\n",
    "##### WEIGHTS UPDATE\n",
    "### enter your code here\n",
    "w_1 = ...\n",
    "w_2 = ...\n",
    "\n",
    "b_1 = ...\n",
    "b_2 = ..."
   ]
  },
  {
   "cell_type": "code",
   "execution_count": 296,
   "metadata": {
    "id": "XYX8qD7j4-tG"
   },
   "outputs": [],
   "source": [
    "### do again the forward pass of the network\n",
    "..."
   ]
  },
  {
   "cell_type": "markdown",
   "metadata": {
    "id": "bWOnlNTw4-tH"
   },
   "source": [
    "Did output become closer to the actual value of the function?"
   ]
  },
  {
   "cell_type": "markdown",
   "metadata": {},
   "source": [
    "### wrap things in to a loop"
   ]
  },
  {
   "cell_type": "code",
   "execution_count": 298,
   "metadata": {
    "id": "CwZURVeL4-tH"
   },
   "outputs": [],
   "source": [
    "N = 50000\n",
    "lr = 0.01"
   ]
  },
  {
   "cell_type": "code",
   "execution_count": 299,
   "metadata": {
    "id": "_ALiqeJ64-tI"
   },
   "outputs": [],
   "source": [
    "X = np.linspace(-5.0, 5.0, 500)\n",
    "\n",
    "##### initialization\n",
    "\n",
    "w_1 = np.array([1., -1.])\n",
    "b_1 = np.array([1., 1.])\n",
    "\n",
    "w_2 = np.array([1., -1.])\n",
    "b_2 = np.array([1.])\n",
    "\n",
    "\n",
    "for i in range(N):\n",
    "    x = np.random.choice(X)\n",
    "    actual = gaussian(x)\n",
    "    #### FORWARD PASS\n",
    "    ...\n",
    "\n",
    "    #### DERIVATIVES CALCULATION\n",
    "    dw_2 = ...\n",
    "    db_2 = ...\n",
    "\n",
    "    dw_1 = ...\n",
    "    db_1 = ...\n",
    "\n",
    "    ##### WEIGHTS UPDATE\n",
    "    w_1 = ...\n",
    "    w_2 = ...\n",
    "\n",
    "    b_1 = ...\n",
    "    b_2 = ..."
   ]
  },
  {
   "cell_type": "markdown",
   "metadata": {
    "id": "19YKOkUP4-tI"
   },
   "source": [
    "Now let's plot things and see what they look like."
   ]
  },
  {
   "cell_type": "code",
   "execution_count": 1,
   "metadata": {
    "colab": {
     "base_uri": "https://localhost:8080/",
     "height": 785
    },
    "id": "S_nnobOO4-tI",
    "outputId": "0d6368fe-b9b2-434d-e6b9-14d37060c207"
   },
   "outputs": [],
   "source": [
    "z1 = ...\n",
    "z2 = ...\n",
    "\n",
    "# Node outputs\n",
    "h1 = ...\n",
    "h2 = ...\n",
    "\n",
    "z3 = ...\n",
    "out = ..."
   ]
  },
  {
   "cell_type": "code",
   "execution_count": null,
   "metadata": {},
   "outputs": [],
   "source": [
    "### Uncomment and run when z's and h's computed\n",
    "\n",
    "# SIZE = 15\n",
    "\n",
    "# fig, ax = plt.subplots(1,1, figsize=(14,10))\n",
    "\n",
    "# ax.plot(X, gaussian(X), lw=4, ls = '-.', label='True function')\n",
    "# ax.plot(X, out, lw=4, label='Perceptron')\n",
    "# # ax.plot(x, h2, lw=4, label='Second neuron')\n",
    "\n",
    "# # Set title\n",
    "# ax.set_title('Comparison of Neuron Outputs', fontsize=SIZE)\n",
    "\n",
    "# # Create labels (very important!)\n",
    "# ax.set_xlabel('$x$', fontsize=SIZE) # Notice we make the labels big enough to read\n",
    "# ax.set_ylabel('$y$', fontsize=SIZE)\n",
    "\n",
    "# ax.tick_params(labelsize=SIZE) # Make the tick labels big enough to read\n",
    "\n",
    "# ax.legend(fontsize=SIZE, loc='best') # Create a legend and make it big enough to read"
   ]
  },
  {
   "cell_type": "markdown",
   "metadata": {
    "id": "46veyg1G4-tI"
   },
   "source": [
    "### Classification problem"
   ]
  },
  {
   "cell_type": "markdown",
   "metadata": {},
   "source": [
    "Fill out the code for the following classification problem. Implement:\n",
    "- foward pass\n",
    "- backward pass\n",
    "- weight updates"
   ]
  },
  {
   "cell_type": "code",
   "execution_count": 301,
   "metadata": {
    "id": "qwljWwqZ4-tJ"
   },
   "outputs": [],
   "source": [
    "from sklearn.datasets import make_blobs\n",
    "from matplotlib import pyplot\n",
    "from pandas import DataFrame"
   ]
  },
  {
   "cell_type": "code",
   "execution_count": 302,
   "metadata": {
    "colab": {
     "base_uri": "https://localhost:8080/",
     "height": 449
    },
    "id": "P_mt3s464-tJ",
    "outputId": "731d18c2-bdce-495c-925e-3e3930c5e14b"
   },
   "outputs": [
    {
     "data": {
      "image/png": "[encoded data removed]",
      "text/plain": [
       "<Figure size 640x480 with 1 Axes>"
      ]
     },
     "metadata": {},
     "output_type": "display_data"
    }
   ],
   "source": [
    "# generate 2d classification dataset\n",
    "X, y = make_blobs(n_samples=500, centers=2, n_features=2, random_state=0)\n",
    "# scatter plot, dots colored by class value\n",
    "df = DataFrame(dict(x=X[:,0], y=X[:,1], label=y))\n",
    "colors = {0:'red', 1:'blue'}\n",
    "fig, ax = pyplot.subplots()\n",
    "grouped = df.groupby('label')\n",
    "for key, group in grouped:\n",
    "    group.plot(ax=ax, kind='scatter', x='x', y='y', label=key, color=colors[key])\n",
    "pyplot.show()"
   ]
  },
  {
   "cell_type": "code",
   "execution_count": 304,
   "metadata": {
    "id": "DR0AtdG-VzHG"
   },
   "outputs": [],
   "source": [
    "from sklearn.model_selection import train_test_split"
   ]
  },
  {
   "cell_type": "code",
   "execution_count": 305,
   "metadata": {
    "id": "aTpGLoyM4-tK"
   },
   "outputs": [],
   "source": [
    "X_train, X_test, y_train, y_test = train_test_split(X,y, test_size = 0.2, random_state=42)"
   ]
  },
  {
   "cell_type": "code",
   "execution_count": 306,
   "metadata": {
    "id": "9XXrajHy4-tL"
   },
   "outputs": [],
   "source": [
    "x = X_test"
   ]
  },
  {
   "cell_type": "code",
   "execution_count": 307,
   "metadata": {
    "id": "tqsyp7cP4-tL"
   },
   "outputs": [],
   "source": [
    "##### initialization ('ones')\n",
    "w_1 = np.array([1, 1])\n",
    "b_1 = np.array([1])"
   ]
  },
  {
   "cell_type": "code",
   "execution_count": 308,
   "metadata": {
    "id": "d1kLoXe14-tM"
   },
   "outputs": [],
   "source": [
    "z1 = ...\n",
    "\n",
    "# Node outputs\n",
    "h1 = ..."
   ]
  },
  {
   "cell_type": "markdown",
   "metadata": {},
   "source": [
    "### Check the accuracy"
   ]
  },
  {
   "cell_type": "code",
   "execution_count": null,
   "metadata": {
    "colab": {
     "base_uri": "https://localhost:8080/"
    },
    "id": "8fF4CuaW4-tM",
    "outputId": "9dca9d5f-8537-4336-d67a-0ef6c118ecc8"
   },
   "outputs": [],
   "source": [
    "pred = [int(score > 0.5) for score in h1]\n",
    "sum(pred == y_test) / len(y_test)"
   ]
  },
  {
   "cell_type": "markdown",
   "metadata": {},
   "source": [
    "### generalization ==> wrap into a proper loop"
   ]
  },
  {
   "cell_type": "code",
   "execution_count": 310,
   "metadata": {
    "id": "Y8ApyfZ44-tN"
   },
   "outputs": [],
   "source": [
    "### Loop"
   ]
  },
  {
   "cell_type": "code",
   "execution_count": 311,
   "metadata": {
    "id": "0WI6JeeH4-tO"
   },
   "outputs": [],
   "source": [
    "N = 10000 # epochs"
   ]
  },
  {
   "cell_type": "code",
   "execution_count": 312,
   "metadata": {
    "id": "LdOMCniR4-tO"
   },
   "outputs": [],
   "source": [
    "batch_size = 10 # 2, 4, 8, 16, 32, ... 10 is also an example\n",
    "\n",
    "##### initialization\n",
    "\n",
    "w_1 = np.array([1.,1.])\n",
    "b_1 = np.array([1.])\n",
    "\n",
    "\n",
    "for i in range(N):\n",
    "    perm = np.random.permutation(len(X_train))\n",
    "    X_train = X_train[perm]\n",
    "    y_train = y_train[perm]\n",
    "\n",
    "    for batch_id in range(int(len(X_train)/batch_size)):\n",
    "        x = X_train[batch_id*batch_size:(batch_id+1)*batch_size]\n",
    "        y = y_train[batch_id*batch_size:(batch_id+1)*batch_size]\n",
    "\n",
    "        m = x.shape[0]\n",
    "        #### FORWARD PASS\n",
    "        z_1 = ...\n",
    "        h_1 = ...\n",
    "\n",
    "\n",
    "        #### DERIVATIVES CALCULATION\n",
    "        dw1 = ...\n",
    "        db1 = ...\n",
    "\n",
    "\n",
    "        ##### WEIGHTS UPDATE\n",
    "        w_1 = ...\n",
    "        b_1 = ..."
   ]
  },
  {
   "cell_type": "code",
   "execution_count": 313,
   "metadata": {
    "id": "jvylL_nVXCW3"
   },
   "outputs": [],
   "source": [
    "from sklearn.metrics import accuracy_score"
   ]
  },
  {
   "cell_type": "code",
   "execution_count": null,
   "metadata": {
    "colab": {
     "base_uri": "https://localhost:8080/"
    },
    "id": "jq-9EqhK4-tO",
    "outputId": "255da8a0-1765-4f7b-fd60-ad66e088d7e0"
   },
   "outputs": [],
   "source": [
    "### check the accuracy on the test set\n",
    "y_pred = sigmoid(X_test @ w_1 + b_1)\n",
    "accuracy_score(y_test, y_pred > 0.5)"
   ]
  }
 ],
 "metadata": {
  "colab": {
   "provenance": [],
   "toc_visible": true
  },
  "kernelspec": {
   "display_name": "Python 3 (ipykernel)",
   "language": "python",
   "name": "python3"
  },
  "language_info": {
   "codemirror_mode": {
    "name": "ipython",
    "version": 3
   },
   "file_extension": ".py",
   "mimetype": "text/x-python",
   "name": "python",
   "nbconvert_exporter": "python",
   "pygments_lexer": "ipython3",
   "version": "3.11.4"
  }
 },
 "nbformat": 4,
 "nbformat_minor": 4
}
