{
 "cells": [
  {
   "cell_type": "markdown",
   "metadata": {
    "id": "uhK8t5S34-tC"
   },
   "source": [
    "## Backpropagation"
   ]
  },
  {
   "cell_type": "markdown",
   "metadata": {},
   "source": [
    "### Part I. Classic"
   ]
  },
  {
   "cell_type": "markdown",
   "metadata": {},
   "source": [
    "Do a forward pass (calculate green values), and a backward pass (calculate gradients, red\n",
    "values)."
   ]
  },
  {
   "cell_type": "markdown",
   "metadata": {},
   "source": [
    "![title](HA4_backprop.png)"
   ]
  },
  {
   "cell_type": "markdown",
   "metadata": {},
   "source": [
    "Forward Pass:\n",
    "ReLU(x) = max(0, x) = max(0, (-2*3*) + (-1*4)) = max(0, -6 + (-4)) = max(0, -10) = 0"
   ]
  },
  {
   "cell_type": "markdown",
   "metadata": {},
   "source": [
    "Backward Pass:\n",
    "z<0  ==> gradient = 0, so all gradients for x_i and w_i = 0"
   ]
  },
  {
   "cell_type": "markdown",
   "metadata": {},
   "source": [
    "### Part II. Some coding bits"
   ]
  },
  {
   "cell_type": "code",
   "execution_count": 22,
   "metadata": {
    "id": "t4X6fnzc4-tE"
   },
   "outputs": [],
   "source": [
    "import numpy as np\n",
    "import matplotlib.pyplot as plt\n",
    "def affine(x, w, b):\n",
    "    return w * x + b\n",
    "def sigmoid(z):\n",
    "    return 1.0 / (1.0 + np.exp(-z))\n",
    "def gaussian(x):\n",
    "    return np.exp(-x*x)\n",
    "def sigmoid_derivative(z):\n",
    "    return sigmoid(z) * (1 - sigmoid(z))\n",
    "def mse(y,yout):\n",
    "    return np.mean((y-yout)*(y-yout))\n",
    "def derivative_weight(x, y, w, b):\n",
    "    return -(2 / len(x)) * np.sum((y-np.sum((w*x+b), axis=1)).reshape(-1, 1)*x, axis=0)\n",
    "def derivative_bias(x, y, w, b):\n",
    "    return -(2 / len(x)) * np.sum((y-np.sum((w*x+b), axis=1)).reshape(-1, 1), axis=0)"
   ]
  },
  {
   "cell_type": "code",
   "execution_count": 29,
   "metadata": {
    "id": "ZagPtUUC4-tE"
   },
   "outputs": [],
   "source": [
    "x = 1.\n",
    "\n",
    "##### initialization\n",
    "\n",
    "w_1 = np.array([1., -1.])\n",
    "b_1 = np.array([1., 1.])\n",
    "\n",
    "w_2 = np.array([1., -1.])\n",
    "b_2 = np.array([1.])"
   ]
  },
  {
   "cell_type": "code",
   "execution_count": 30,
   "metadata": {
    "id": "tVHW57-s4-tF"
   },
   "outputs": [],
   "source": [
    "### do the forward pass of the network\n",
    "z_2, z_3 = 0, 0\n",
    "def forward():\n",
    "    global z_2, z_3, h_1_2\n",
    "    z_2 = affine(x, w_1, b_1)\n",
    "    h_1_2 = sigmoid(z_2)\n",
    "    z_3 =  np.dot(w_2, h_1_2) + b_2"
   ]
  },
  {
   "cell_type": "code",
   "execution_count": 32,
   "metadata": {},
   "outputs": [
    {
     "data": {
      "text/plain": [
       "array([1.38079708])"
      ]
     },
     "execution_count": 32,
     "metadata": {},
     "output_type": "execute_result"
    }
   ],
   "source": [
    "forward()\n",
    "z_3"
   ]
  },
  {
   "cell_type": "markdown",
   "metadata": {
    "id": "sgbOPUKi4-tG"
   },
   "source": [
    "Is the output of the network close to the actual value?"
   ]
  },
  {
   "cell_type": "code",
   "execution_count": 33,
   "metadata": {},
   "outputs": [
    {
     "data": {
      "text/plain": [
       "1.0260021389535428"
      ]
     },
     "execution_count": 33,
     "metadata": {},
     "output_type": "execute_result"
    }
   ],
   "source": [
    "loss = mse(z_3, gaussian(x))\n",
    "loss"
   ]
  },
  {
   "cell_type": "markdown",
   "metadata": {},
   "source": [
    "Різниця складає 1.0260021389535428"
   ]
  },
  {
   "cell_type": "code",
   "execution_count": 34,
   "metadata": {
    "id": "ffImwKmA4-tG"
   },
   "outputs": [
    {
     "data": {
      "text/plain": [
       "(array([ 0.42268688, -1.00645882]), array([ 0.42268688, -1.00645882]))"
      ]
     },
     "execution_count": 34,
     "metadata": {},
     "output_type": "execute_result"
    }
   ],
   "source": [
    "#### DERIVATIVES CALCULATION\n",
    "### enter your code here\n",
    "lr = 0.01\n",
    "dw_2 = derivative_weight(np.array([h_1_2]), np.array([gaussian(x)]), w_2, b_2)\n",
    "db_2 = derivative_bias(np.array([h_1_2]), np.array([gaussian(x)]), w_2, b_2)\n",
    "\n",
    "d_2 = db_2*w_2\n",
    "\n",
    "dw_1 = d_2*sigmoid_derivative(z_2)*x\n",
    "db_1 = d_2*sigmoid_derivative(z_2)\n",
    "\n",
    "##### WEIGHTS UPDATE\n",
    "### enter your code here\n",
    "w_1 -= dw_1*lr\n",
    "w_2 -= dw_2*lr\n",
    "\n",
    "b_1 -= db_1*lr\n",
    "b_2 -= db_2*lr\n",
    "\n",
    "db_1, dw_1"
   ]
  },
  {
   "cell_type": "code",
   "execution_count": 35,
   "metadata": {
    "id": "XYX8qD7j4-tG"
   },
   "outputs": [
    {
     "data": {
      "text/plain": [
       "array([1.29324928])"
      ]
     },
     "execution_count": 35,
     "metadata": {},
     "output_type": "execute_result"
    }
   ],
   "source": [
    "### do again the forward pass of the network\n",
    "forward()\n",
    "z_3"
   ]
  },
  {
   "cell_type": "markdown",
   "metadata": {
    "id": "bWOnlNTw4-tH"
   },
   "source": [
    "Did output become closer to the actual value of the function?"
   ]
  },
  {
   "cell_type": "code",
   "execution_count": 36,
   "metadata": {},
   "outputs": [
    {
     "data": {
      "text/plain": [
       "0.8563093295913285"
      ]
     },
     "execution_count": 36,
     "metadata": {},
     "output_type": "execute_result"
    }
   ],
   "source": [
    "loss = mse(z_3, gaussian(x))\n",
    "loss"
   ]
  },
  {
   "cell_type": "markdown",
   "metadata": {},
   "source": [
    "Без lr результат складав аж 63"
   ]
  },
  {
   "cell_type": "markdown",
   "metadata": {},
   "source": [
    "### wrap things in to a loop"
   ]
  },
  {
   "cell_type": "code",
   "execution_count": 38,
   "metadata": {
    "id": "CwZURVeL4-tH"
   },
   "outputs": [],
   "source": [
    "N = 50000\n",
    "lr = 0.01"
   ]
  },
  {
   "cell_type": "code",
   "execution_count": 40,
   "metadata": {
    "id": "_ALiqeJ64-tI"
   },
   "outputs": [],
   "source": [
    "X = np.linspace(-5.0, 5.0, 500)\n",
    "\n",
    "##### initialization\n",
    "\n",
    "w_1 = np.array([1., -1.])\n",
    "b_1 = np.array([1., 1.])\n",
    "\n",
    "w_2 = np.array([1., -1.])\n",
    "b_2 = np.array([1.])\n",
    "\n",
    "\n",
    "for i in range(N):\n",
    "    x = np.random.choice(X)\n",
    "    actual = gaussian(x)\n",
    "    #### FORWARD PASS\n",
    "    forward()\n",
    "\n",
    "    #### DERIVATIVES CALCULATION\n",
    "    dw_2 = derivative_weight(np.array([h_1_2]), np.array([gaussian(x)]), w_2, b_2)\n",
    "    db_2 = derivative_bias(np.array([h_1_2]), np.array([gaussian(x)]), w_2, b_2)\n",
    "\n",
    "    dw_1 = db_2*w_2*sigmoid_derivative(z_2)*x\n",
    "    db_1 = db_2*w_2*sigmoid_derivative(z_2)\n",
    "\n",
    "    ##### WEIGHTS UPDATE\n",
    "    w_1 -= dw_1*lr\n",
    "    w_2 -= dw_2*lr\n",
    "\n",
    "    b_1 -= db_1*lr\n",
    "    b_2 -= db_2*lr"
   ]
  },
  {
   "cell_type": "markdown",
   "metadata": {
    "id": "19YKOkUP4-tI"
   },
   "source": [
    "Now let's plot things and see what they look like."
   ]
  },
  {
   "cell_type": "code",
   "execution_count": 41,
   "metadata": {
    "colab": {
     "base_uri": "https://localhost:8080/",
     "height": 785
    },
    "id": "S_nnobOO4-tI",
    "outputId": "0d6368fe-b9b2-434d-e6b9-14d37060c207"
   },
   "outputs": [],
   "source": [
    "z1 = []\n",
    "z2 = []\n",
    "h1 = []\n",
    "h2 = []\n",
    "z3 = []\n",
    "\n",
    "for x in X:\n",
    "    forward()\n",
    "\n",
    "    z1.append(z_2[0])\n",
    "    z2.append(z_2[1])\n",
    "\n",
    "    h1.append(h_1_2[0])\n",
    "    h2.append(h_1_2[1])\n",
    "\n",
    "    z3.append(z_3)\n",
    "\n",
    "z1 = np.array(z1)\n",
    "z2 = np.array(z2)\n",
    "h1 = np.array(h1)\n",
    "h2 = np.array(h2)\n",
    "z3 = np.array(z3)\n",
    "out = z3"
   ]
  },
  {
   "cell_type": "code",
   "execution_count": 42,
   "metadata": {},
   "outputs": [
    {
     "data": {
      "text/plain": [
       "<matplotlib.legend.Legend at 0x2716c9a14d0>"
      ]
     },
     "execution_count": 42,
     "metadata": {},
     "output_type": "execute_result"
    },
    {
     "data": {
      "image/png": "[encoded data removed]",
      "text/plain": [
       "<Figure size 1400x1000 with 1 Axes>"
      ]
     },
     "metadata": {},
     "output_type": "display_data"
    }
   ],
   "source": [
    "### Uncomment and run when z's and h's computed\n",
    "\n",
    "SIZE = 15\n",
    "\n",
    "fig, ax = plt.subplots(1,1, figsize=(14,10))\n",
    "\n",
    "ax.plot(X, gaussian(X), lw=4, ls = '-.', label='True function')\n",
    "ax.plot(X, out, lw=4, label='Perceptron')\n",
    "# ax.plot(x, h2, lw=4, label='Second neuron')\n",
    "\n",
    "# Set title\n",
    "ax.set_title('Comparison of Neuron Outputs', fontsize=SIZE)\n",
    "\n",
    "# Create labels (very important!)\n",
    "ax.set_xlabel('$x$', fontsize=SIZE) # Notice we make the labels big enough to read\n",
    "ax.set_ylabel('$y$', fontsize=SIZE)\n",
    "\n",
    "ax.tick_params(labelsize=SIZE) # Make the tick labels big enough to read\n",
    "\n",
    "ax.legend(fontsize=SIZE, loc='best') # Create a legend and make it big enough to read"
   ]
  },
  {
   "cell_type": "markdown",
   "metadata": {},
   "source": [
    "Графіки майже співпадають."
   ]
  },
  {
   "cell_type": "markdown",
   "metadata": {
    "id": "46veyg1G4-tI"
   },
   "source": [
    "### Classification problem"
   ]
  },
  {
   "cell_type": "markdown",
   "metadata": {},
   "source": [
    "Fill out the code for the following classification problem. Implement:\n",
    "- foward pass\n",
    "- backward pass\n",
    "- weight updates"
   ]
  },
  {
   "cell_type": "code",
   "execution_count": 43,
   "metadata": {
    "id": "qwljWwqZ4-tJ"
   },
   "outputs": [],
   "source": [
    "from sklearn.datasets import make_blobs\n",
    "from matplotlib import pyplot\n",
    "from pandas import DataFrame"
   ]
  },
  {
   "cell_type": "code",
   "execution_count": 44,
   "metadata": {
    "colab": {
     "base_uri": "https://localhost:8080/",
     "height": 449
    },
    "id": "P_mt3s464-tJ",
    "outputId": "731d18c2-bdce-495c-925e-3e3930c5e14b"
   },
   "outputs": [
    {
     "data": {
      "image/png": "[encoded data removed]",
      "text/plain": [
       "<Figure size 640x480 with 1 Axes>"
      ]
     },
     "metadata": {},
     "output_type": "display_data"
    }
   ],
   "source": [
    "# generate 2d classification dataset\n",
    "X, y = make_blobs(n_samples=500, centers=2, n_features=2, random_state=0)\n",
    "# scatter plot, dots colored by class value\n",
    "df = DataFrame(dict(x=X[:,0], y=X[:,1], label=y))\n",
    "colors = {0:'red', 1:'blue'}\n",
    "fig, ax = pyplot.subplots()\n",
    "grouped = df.groupby('label')\n",
    "for key, group in grouped:\n",
    "    group.plot(ax=ax, kind='scatter', x='x', y='y', label=key, color=colors[key])\n",
    "pyplot.show()"
   ]
  },
  {
   "cell_type": "code",
   "execution_count": 45,
   "metadata": {
    "id": "DR0AtdG-VzHG"
   },
   "outputs": [],
   "source": [
    "from sklearn.model_selection import train_test_split"
   ]
  },
  {
   "cell_type": "code",
   "execution_count": 46,
   "metadata": {
    "id": "aTpGLoyM4-tK"
   },
   "outputs": [],
   "source": [
    "X_train, X_test, y_train, y_test = train_test_split(X,y, test_size = 0.2, random_state=42)"
   ]
  },
  {
   "cell_type": "code",
   "execution_count": 47,
   "metadata": {
    "id": "9XXrajHy4-tL"
   },
   "outputs": [],
   "source": [
    "x = X_test"
   ]
  },
  {
   "cell_type": "code",
   "execution_count": 48,
   "metadata": {
    "id": "tqsyp7cP4-tL"
   },
   "outputs": [],
   "source": [
    "##### initialization ('ones')\n",
    "w_1 = np.array([1, 1])\n",
    "b_1 = np.array([1])"
   ]
  },
  {
   "cell_type": "code",
   "execution_count": 49,
   "metadata": {
    "id": "d1kLoXe14-tM"
   },
   "outputs": [],
   "source": [
    "z1 = x@w_1 + b_1\n",
    "\n",
    "# Node outputs\n",
    "h1 = sigmoid(z1)"
   ]
  },
  {
   "cell_type": "markdown",
   "metadata": {},
   "source": [
    "### Check the accuracy"
   ]
  },
  {
   "cell_type": "code",
   "execution_count": 50,
   "metadata": {
    "colab": {
     "base_uri": "https://localhost:8080/"
    },
    "id": "8fF4CuaW4-tM",
    "outputId": "9dca9d5f-8537-4336-d67a-0ef6c118ecc8"
   },
   "outputs": [
    {
     "data": {
      "text/plain": [
       "0.45"
      ]
     },
     "execution_count": 50,
     "metadata": {},
     "output_type": "execute_result"
    }
   ],
   "source": [
    "pred = [int(score > 0.5) for score in h1]\n",
    "sum(pred == y_test) / len(y_test)"
   ]
  },
  {
   "cell_type": "markdown",
   "metadata": {},
   "source": [
    "### generalization ==> wrap into a proper loop"
   ]
  },
  {
   "cell_type": "code",
   "execution_count": 310,
   "metadata": {
    "id": "Y8ApyfZ44-tN"
   },
   "outputs": [],
   "source": [
    "### Loop"
   ]
  },
  {
   "cell_type": "code",
   "execution_count": 51,
   "metadata": {
    "id": "0WI6JeeH4-tO"
   },
   "outputs": [],
   "source": [
    "N = 10000 # epochs"
   ]
  },
  {
   "cell_type": "code",
   "execution_count": 64,
   "metadata": {},
   "outputs": [],
   "source": [
    "def log_loss(y_pred, y_true):\n",
    "    eps = 1e-12\n",
    "    ypred = np.clip(y_pred, eps, 1 - eps)\n",
    "    d = -(y_true / y_pred) + ((1 - y_true) / (1 - y_pred))\n",
    "    return d"
   ]
  },
  {
   "cell_type": "code",
   "execution_count": 65,
   "metadata": {
    "id": "LdOMCniR4-tO"
   },
   "outputs": [],
   "source": [
    "batch_size = 10 # 2, 4, 8, 16, 32, ... 10 is also an example\n",
    "\n",
    "##### initialization\n",
    "\n",
    "w_1 = np.array([1.,1.])\n",
    "b_1 = np.array([1.])\n",
    "\n",
    "\n",
    "for i in range(N):\n",
    "    perm = np.random.permutation(len(X_train))\n",
    "    X_train = X_train[perm]\n",
    "    y_train = y_train[perm]\n",
    "\n",
    "    for batch_id in range(int(len(X_train)/batch_size)):\n",
    "        x = X_train[batch_id*batch_size:(batch_id+1)*batch_size]\n",
    "        y = y_train[batch_id*batch_size:(batch_id+1)*batch_size]\n",
    "\n",
    "        m = x.shape[0]\n",
    "        #### FORWARD PASS\n",
    "        z_1 = x@w_1+b_1\n",
    "        h_1 = sigmoid(z_1)\n",
    "\n",
    "\n",
    "        #### DERIVATIVES CALCULATION\n",
    "        dw1 = np.mean(x*(log_loss(h_1, y)*sigmoid_derivative(z_1)).reshape(-1, 1), axis=0)\n",
    "        db1 = np.mean(log_loss(h_1, y)*sigmoid_derivative(z_1))\n",
    "\n",
    "\n",
    "        ##### WEIGHTS UPDATE\n",
    "        w_1 -= dw1*lr\n",
    "        b_1 -= db1*lr"
   ]
  },
  {
   "cell_type": "code",
   "execution_count": 54,
   "metadata": {
    "id": "jvylL_nVXCW3"
   },
   "outputs": [],
   "source": [
    "from sklearn.metrics import accuracy_score"
   ]
  },
  {
   "cell_type": "code",
   "execution_count": 66,
   "metadata": {
    "colab": {
     "base_uri": "https://localhost:8080/"
    },
    "id": "jq-9EqhK4-tO",
    "outputId": "255da8a0-1765-4f7b-fd60-ad66e088d7e0"
   },
   "outputs": [
    {
     "data": {
      "text/plain": [
       "0.95"
      ]
     },
     "execution_count": 66,
     "metadata": {},
     "output_type": "execute_result"
    }
   ],
   "source": [
    "### check the accuracy on the test set\n",
    "y_pred = sigmoid(X_test @ w_1 + b_1)\n",
    "accuracy_score(y_test, y_pred > 0.5)"
   ]
  },
  {
   "cell_type": "markdown",
   "metadata": {},
   "source": [
    "Точність виявилася дуже високою."
   ]
  }
 ],
 "metadata": {
  "colab": {
   "provenance": [],
   "toc_visible": true
  },
  "kernelspec": {
   "display_name": "Python 3 (ipykernel)",
   "language": "python",
   "name": "python3"
  },
  "language_info": {
   "codemirror_mode": {
    "name": "ipython",
    "version": 3
   },
   "file_extension": ".py",
   "mimetype": "text/x-python",
   "name": "python",
   "nbconvert_exporter": "python",
   "pygments_lexer": "ipython3",
   "version": "3.11.4"
  }
 },
 "nbformat": 4,
 "nbformat_minor": 4
}
